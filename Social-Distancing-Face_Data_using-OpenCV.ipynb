{
 "cells": [
  {
   "cell_type": "code",
   "execution_count": 1,
   "metadata": {},
   "outputs": [],
   "source": [
    "import cv2\n",
    "from warnings import filterwarnings\n",
    "filterwarnings(\"ignore\")\n",
    "from scipy.spatial import distance as dist"
   ]
  },
  {
   "cell_type": "code",
   "execution_count": 2,
   "metadata": {},
   "outputs": [],
   "source": [
    "capture=cv2.VideoCapture(0) ### For capturing video using default webcam\n",
    "face_model=cv2.CascadeClassifier(\"C:\\\\Users\\\\ASUS\\\\AppData\\\\Local\\\\Programs\\\\Python\\\\Python37\\\\Lib\\\\site-packages\\\\cv2\\\\data\\\\haarcascade_frontalface_default.xml\")\n",
    "### Face xml data (Harcascade Classifier)"
   ]
  },
  {
   "cell_type": "code",
   "execution_count": 3,
   "metadata": {},
   "outputs": [],
   "source": [
    "D=0 ### Distance (to be calculated)\n",
    "\n",
    "while(True):\n",
    "    \n",
    "    status, photo=capture.read()  ### Read Face by opening camera\n",
    "    face_cor=face_model.detectMultiScale(photo)   ### load Face Data\n",
    "    \n",
    "    no_of_faces=len(face_cor) ### No. of faces Detected\n",
    "    \n",
    "    photo=cv2.putText(          ### Deterine text according to no. of faces\n",
    "        photo, str(no_of_faces)+\" Face\", \n",
    "        (150, 50), cv2.FONT_HERSHEY_SIMPLEX, 1, \n",
    "        (255, 0, 0), 2, cv2.LINE_AA\n",
    "    )\n",
    "    \n",
    "    stack_x, stack_y=[], []\n",
    "    stack_x_print, stack_y_print=[], []\n",
    "\n",
    "    \n",
    "    if (no_of_faces == 0): ## if there are no faces then continue\n",
    "        pass\n",
    "    \n",
    "    else:\n",
    "        for i in range(0, no_of_faces):\n",
    "            \n",
    "            x1=face_cor[i][0]\n",
    "            x2=face_cor[i][0]+face_cor[i][2]\n",
    "            y1=face_cor[i][1]\n",
    "            y2=face_cor[i][3]+face_cor[i][1]\n",
    "            \n",
    "            mid_x=int((x1+x2)/2) ### Plotting a single point on a detected face for calculating the Euclidean Distance\n",
    "            mid_y=int((y1+y2)/2)\n",
    "            \n",
    "            stack_x.append(mid_x)\n",
    "            stack_y.append(mid_y)\n",
    "            \n",
    "            stack_x_print.append(mid_x)\n",
    "            stack_y_print.append(mid_y)\n",
    "            \n",
    "            photo=cv2.circle(photo, (mid_x, mid_y), 3, [255, 0, 0], -1)\n",
    "            photo=cv2.rectangle(photo, (x1, y1), (x2, y2), [0, 255, 0], 2)\n",
    "            \n",
    "        if no_of_faces >= 2:\n",
    "            \n",
    "            D=int(dist.euclidean((stack_x.pop(), stack_y.pop()), (stack_x.pop(), stack_y.pop()))) ### calculating the distance\n",
    "            \n",
    "            photo=cv2.line(\n",
    "                photo, (stack_x_print.pop(), stack_y_print.pop()), \n",
    "                (stack_x_print.pop(), stack_y_print.pop()), \n",
    "                [0, 255, 0], 2\n",
    "            ) ### creates a line from the mid-point of the detected faces\n",
    "            \n",
    "        else:\n",
    "            D=0\n",
    "        \n",
    "    if(D < 250 and D!=0):\n",
    "        photo=cv2.putText(\n",
    "            photo, \"Hey! Move Away\", (100, 100), \n",
    "            cv2.FONT_HERSHEY_SIMPLEX, \n",
    "            2, [0, 0, 255], 4\n",
    "        ) ### if distance is less the 25 cm then it labels \"Hey! Move Away\" to determine Social-Distancing\n",
    "    \n",
    "    \n",
    "    photo=cv2.putText(photo, \n",
    "                      str(D/10) + \" cm\", \n",
    "                      (300, 50), \n",
    "                      cv2.FONT_HERSHEY_SIMPLEX, 1, (255, 0, 0), 2, cv2.LINE_AA) ### Displaying the distance btw the faces in 'cm' scale..\n",
    "    \n",
    "    cv2.imshow(\"Hi\", photo) ## window name\n",
    "    \n",
    "    if(cv2.waitKey(100) == 13): ## Press Enter key to exit video\n",
    "        break ##"
   ]
  },
  {
   "cell_type": "code",
   "execution_count": 4,
   "metadata": {},
   "outputs": [],
   "source": [
    "capture.release()\n",
    "cv2.destroyAllWindows() ## Close all windows"
   ]
  },
  {
   "cell_type": "code",
   "execution_count": null,
   "metadata": {},
   "outputs": [],
   "source": []
  },
  {
   "cell_type": "code",
   "execution_count": null,
   "metadata": {},
   "outputs": [],
   "source": []
  }
 ],
 "metadata": {
  "kernelspec": {
   "display_name": "Python 3",
   "language": "python",
   "name": "python3"
  },
  "language_info": {
   "codemirror_mode": {
    "name": "ipython",
    "version": 3
   },
   "file_extension": ".py",
   "mimetype": "text/x-python",
   "name": "python",
   "nbconvert_exporter": "python",
   "pygments_lexer": "ipython3",
   "version": "3.7.4"
  }
 },
 "nbformat": 4,
 "nbformat_minor": 2
}
